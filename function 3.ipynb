{
  "cells": [
    {
      "cell_type": "code",
      "execution_count": 1,
      "metadata": {
        "id": "wgiUppZDI97Y"
      },
      "outputs": [],
      "source": [
        "import numpy as np\n",
        "import matplotlib.pyplot as plt\n",
        "from sklearn.gaussian_process import GaussianProcessRegressor\n",
        "import pandas as pd\n",
        "from capstone_library import *\n",
        "from sklearn.gaussian_process.kernels import RBF, WhiteKernel, Matern, ExpSineSquared, RationalQuadratic, ConstantKernel as C\n",
        "from sklearn.preprocessing import StandardScaler"
      ]
    },
    {
      "cell_type": "markdown",
      "metadata": {},
      "source": [
        "# Hints\n",
        "## Drug Discovery Problem\n",
        "In this example, you are doing drug discovery! You can select three compounds to create a drug, and receive a measurement of the people’s adverse reaction to the drug. You want to make this as close as possible to zero. (hint: one of the variables may not cause any effects on the person)."
      ]
    },
    {
      "cell_type": "markdown",
      "metadata": {},
      "source": [
        "# Let's go!"
      ]
    },
    {
      "cell_type": "markdown",
      "metadata": {
        "id": "ECFiNw8AI97d"
      },
      "source": [
        "Let's load the data."
      ]
    },
    {
      "cell_type": "code",
      "execution_count": 2,
      "metadata": {
        "id": "SoLIJYgsI97e"
      },
      "outputs": [],
      "source": [
        "X = np.load('initial_data/function_3/initial_inputs.npy')\n",
        "y = np.load('initial_data/function_3/initial_outputs.npy')"
      ]
    },
    {
      "cell_type": "code",
      "execution_count": 3,
      "metadata": {},
      "outputs": [],
      "source": [
        "# loading new data\n",
        "new_queries = get_function_data_from_file('new_data/queries.txt', 3)\n",
        "new_observ = get_function_data_from_file('new_data/observations.txt', 3)"
      ]
    },
    {
      "cell_type": "code",
      "execution_count": 4,
      "metadata": {},
      "outputs": [],
      "source": [
        "# adding new_queries to X\n",
        "new_queries = np.array(new_queries).reshape(-1, 3)\n",
        "X = np.concatenate((X, new_queries), axis=0)\n",
        "\n",
        "# adding new_observ to y\n",
        "new_observ = np.array(new_observ).reshape(-1)\n",
        "y = np.concatenate((y, new_observ), axis=0)"
      ]
    },
    {
      "cell_type": "markdown",
      "metadata": {},
      "source": [
        "## Visualizing the data and thinking of the problem"
      ]
    },
    {
      "cell_type": "code",
      "execution_count": 5,
      "metadata": {},
      "outputs": [
        {
          "data": {
            "text/html": [
              "<div>\n",
              "<style scoped>\n",
              "    .dataframe tbody tr th:only-of-type {\n",
              "        vertical-align: middle;\n",
              "    }\n",
              "\n",
              "    .dataframe tbody tr th {\n",
              "        vertical-align: top;\n",
              "    }\n",
              "\n",
              "    .dataframe thead th {\n",
              "        text-align: right;\n",
              "    }\n",
              "</style>\n",
              "<table border=\"1\" class=\"dataframe\">\n",
              "  <thead>\n",
              "    <tr style=\"text-align: right;\">\n",
              "      <th></th>\n",
              "      <th>x1</th>\n",
              "      <th>x2</th>\n",
              "      <th>x3</th>\n",
              "      <th>y</th>\n",
              "    </tr>\n",
              "  </thead>\n",
              "  <tbody>\n",
              "    <tr>\n",
              "      <th>0</th>\n",
              "      <td>0.171525</td>\n",
              "      <td>0.343917</td>\n",
              "      <td>0.248737</td>\n",
              "      <td>-0.112122</td>\n",
              "    </tr>\n",
              "    <tr>\n",
              "      <th>1</th>\n",
              "      <td>0.242114</td>\n",
              "      <td>0.644074</td>\n",
              "      <td>0.272433</td>\n",
              "      <td>-0.087963</td>\n",
              "    </tr>\n",
              "    <tr>\n",
              "      <th>2</th>\n",
              "      <td>0.534906</td>\n",
              "      <td>0.398501</td>\n",
              "      <td>0.173389</td>\n",
              "      <td>-0.111415</td>\n",
              "    </tr>\n",
              "    <tr>\n",
              "      <th>3</th>\n",
              "      <td>0.492581</td>\n",
              "      <td>0.611593</td>\n",
              "      <td>0.340176</td>\n",
              "      <td>-0.034835</td>\n",
              "    </tr>\n",
              "    <tr>\n",
              "      <th>4</th>\n",
              "      <td>0.134622</td>\n",
              "      <td>0.219917</td>\n",
              "      <td>0.458206</td>\n",
              "      <td>-0.048008</td>\n",
              "    </tr>\n",
              "    <tr>\n",
              "      <th>5</th>\n",
              "      <td>0.345523</td>\n",
              "      <td>0.941360</td>\n",
              "      <td>0.269363</td>\n",
              "      <td>-0.110621</td>\n",
              "    </tr>\n",
              "    <tr>\n",
              "      <th>6</th>\n",
              "      <td>0.151837</td>\n",
              "      <td>0.439991</td>\n",
              "      <td>0.990882</td>\n",
              "      <td>-0.398926</td>\n",
              "    </tr>\n",
              "    <tr>\n",
              "      <th>7</th>\n",
              "      <td>0.645503</td>\n",
              "      <td>0.397143</td>\n",
              "      <td>0.919771</td>\n",
              "      <td>-0.113869</td>\n",
              "    </tr>\n",
              "    <tr>\n",
              "      <th>8</th>\n",
              "      <td>0.746912</td>\n",
              "      <td>0.284196</td>\n",
              "      <td>0.226300</td>\n",
              "      <td>-0.131461</td>\n",
              "    </tr>\n",
              "    <tr>\n",
              "      <th>9</th>\n",
              "      <td>0.170477</td>\n",
              "      <td>0.697032</td>\n",
              "      <td>0.149169</td>\n",
              "      <td>-0.094190</td>\n",
              "    </tr>\n",
              "    <tr>\n",
              "      <th>10</th>\n",
              "      <td>0.220549</td>\n",
              "      <td>0.297825</td>\n",
              "      <td>0.343555</td>\n",
              "      <td>-0.046947</td>\n",
              "    </tr>\n",
              "    <tr>\n",
              "      <th>11</th>\n",
              "      <td>0.666014</td>\n",
              "      <td>0.671985</td>\n",
              "      <td>0.246295</td>\n",
              "      <td>-0.105965</td>\n",
              "    </tr>\n",
              "    <tr>\n",
              "      <th>12</th>\n",
              "      <td>0.046809</td>\n",
              "      <td>0.231360</td>\n",
              "      <td>0.770618</td>\n",
              "      <td>-0.118048</td>\n",
              "    </tr>\n",
              "    <tr>\n",
              "      <th>13</th>\n",
              "      <td>0.600097</td>\n",
              "      <td>0.725136</td>\n",
              "      <td>0.066089</td>\n",
              "      <td>-0.036378</td>\n",
              "    </tr>\n",
              "    <tr>\n",
              "      <th>14</th>\n",
              "      <td>0.965995</td>\n",
              "      <td>0.861120</td>\n",
              "      <td>0.566829</td>\n",
              "      <td>-0.056758</td>\n",
              "    </tr>\n",
              "    <tr>\n",
              "      <th>15</th>\n",
              "      <td>0.990000</td>\n",
              "      <td>0.000000</td>\n",
              "      <td>0.670000</td>\n",
              "      <td>-0.190526</td>\n",
              "    </tr>\n",
              "    <tr>\n",
              "      <th>16</th>\n",
              "      <td>0.480000</td>\n",
              "      <td>0.990000</td>\n",
              "      <td>0.000000</td>\n",
              "      <td>-0.145661</td>\n",
              "    </tr>\n",
              "    <tr>\n",
              "      <th>17</th>\n",
              "      <td>0.360000</td>\n",
              "      <td>0.000000</td>\n",
              "      <td>0.860000</td>\n",
              "      <td>-0.116873</td>\n",
              "    </tr>\n",
              "    <tr>\n",
              "      <th>18</th>\n",
              "      <td>0.360000</td>\n",
              "      <td>0.000000</td>\n",
              "      <td>0.860000</td>\n",
              "      <td>-0.094265</td>\n",
              "    </tr>\n",
              "    <tr>\n",
              "      <th>19</th>\n",
              "      <td>0.360000</td>\n",
              "      <td>0.000000</td>\n",
              "      <td>0.860000</td>\n",
              "      <td>-0.106565</td>\n",
              "    </tr>\n",
              "    <tr>\n",
              "      <th>20</th>\n",
              "      <td>0.360000</td>\n",
              "      <td>0.000000</td>\n",
              "      <td>0.860000</td>\n",
              "      <td>-0.107481</td>\n",
              "    </tr>\n",
              "    <tr>\n",
              "      <th>21</th>\n",
              "      <td>0.360000</td>\n",
              "      <td>0.000000</td>\n",
              "      <td>0.860000</td>\n",
              "      <td>-0.122976</td>\n",
              "    </tr>\n",
              "    <tr>\n",
              "      <th>22</th>\n",
              "      <td>0.690000</td>\n",
              "      <td>0.990000</td>\n",
              "      <td>0.880000</td>\n",
              "      <td>-0.074138</td>\n",
              "    </tr>\n",
              "    <tr>\n",
              "      <th>23</th>\n",
              "      <td>0.990000</td>\n",
              "      <td>0.580000</td>\n",
              "      <td>0.000000</td>\n",
              "      <td>-0.113750</td>\n",
              "    </tr>\n",
              "    <tr>\n",
              "      <th>24</th>\n",
              "      <td>0.990000</td>\n",
              "      <td>0.000000</td>\n",
              "      <td>0.000000</td>\n",
              "      <td>-0.172398</td>\n",
              "    </tr>\n",
              "    <tr>\n",
              "      <th>25</th>\n",
              "      <td>0.490000</td>\n",
              "      <td>0.190000</td>\n",
              "      <td>0.640000</td>\n",
              "      <td>-0.127785</td>\n",
              "    </tr>\n",
              "    <tr>\n",
              "      <th>26</th>\n",
              "      <td>0.490000</td>\n",
              "      <td>0.190000</td>\n",
              "      <td>0.640000</td>\n",
              "      <td>-0.143638</td>\n",
              "    </tr>\n",
              "    <tr>\n",
              "      <th>27</th>\n",
              "      <td>0.500000</td>\n",
              "      <td>0.640000</td>\n",
              "      <td>0.340303</td>\n",
              "      <td>-0.040175</td>\n",
              "    </tr>\n",
              "  </tbody>\n",
              "</table>\n",
              "</div>"
            ],
            "text/plain": [
              "          x1        x2        x3         y\n",
              "0   0.171525  0.343917  0.248737 -0.112122\n",
              "1   0.242114  0.644074  0.272433 -0.087963\n",
              "2   0.534906  0.398501  0.173389 -0.111415\n",
              "3   0.492581  0.611593  0.340176 -0.034835\n",
              "4   0.134622  0.219917  0.458206 -0.048008\n",
              "5   0.345523  0.941360  0.269363 -0.110621\n",
              "6   0.151837  0.439991  0.990882 -0.398926\n",
              "7   0.645503  0.397143  0.919771 -0.113869\n",
              "8   0.746912  0.284196  0.226300 -0.131461\n",
              "9   0.170477  0.697032  0.149169 -0.094190\n",
              "10  0.220549  0.297825  0.343555 -0.046947\n",
              "11  0.666014  0.671985  0.246295 -0.105965\n",
              "12  0.046809  0.231360  0.770618 -0.118048\n",
              "13  0.600097  0.725136  0.066089 -0.036378\n",
              "14  0.965995  0.861120  0.566829 -0.056758\n",
              "15  0.990000  0.000000  0.670000 -0.190526\n",
              "16  0.480000  0.990000  0.000000 -0.145661\n",
              "17  0.360000  0.000000  0.860000 -0.116873\n",
              "18  0.360000  0.000000  0.860000 -0.094265\n",
              "19  0.360000  0.000000  0.860000 -0.106565\n",
              "20  0.360000  0.000000  0.860000 -0.107481\n",
              "21  0.360000  0.000000  0.860000 -0.122976\n",
              "22  0.690000  0.990000  0.880000 -0.074138\n",
              "23  0.990000  0.580000  0.000000 -0.113750\n",
              "24  0.990000  0.000000  0.000000 -0.172398\n",
              "25  0.490000  0.190000  0.640000 -0.127785\n",
              "26  0.490000  0.190000  0.640000 -0.143638\n",
              "27  0.500000  0.640000  0.340303 -0.040175"
            ]
          },
          "execution_count": 5,
          "metadata": {},
          "output_type": "execute_result"
        }
      ],
      "source": [
        "# visualising the data as a table\n",
        "df = pd.DataFrame(np.hstack((X, y.reshape(-1, 1))), columns=['x1', 'x2', 'x3', 'y'])\n",
        "df.head(100)"
      ]
    },
    {
      "cell_type": "code",
      "execution_count": 6,
      "metadata": {},
      "outputs": [
        {
          "data": {
            "text/html": [
              "<div>\n",
              "<style scoped>\n",
              "    .dataframe tbody tr th:only-of-type {\n",
              "        vertical-align: middle;\n",
              "    }\n",
              "\n",
              "    .dataframe tbody tr th {\n",
              "        vertical-align: top;\n",
              "    }\n",
              "\n",
              "    .dataframe thead th {\n",
              "        text-align: right;\n",
              "    }\n",
              "</style>\n",
              "<table border=\"1\" class=\"dataframe\">\n",
              "  <thead>\n",
              "    <tr style=\"text-align: right;\">\n",
              "      <th></th>\n",
              "      <th>x1</th>\n",
              "      <th>x2</th>\n",
              "      <th>x3</th>\n",
              "      <th>y</th>\n",
              "    </tr>\n",
              "  </thead>\n",
              "  <tbody>\n",
              "    <tr>\n",
              "      <th>3</th>\n",
              "      <td>0.492581</td>\n",
              "      <td>0.611593</td>\n",
              "      <td>0.340176</td>\n",
              "      <td>-0.034835</td>\n",
              "    </tr>\n",
              "    <tr>\n",
              "      <th>13</th>\n",
              "      <td>0.600097</td>\n",
              "      <td>0.725136</td>\n",
              "      <td>0.066089</td>\n",
              "      <td>-0.036378</td>\n",
              "    </tr>\n",
              "    <tr>\n",
              "      <th>27</th>\n",
              "      <td>0.500000</td>\n",
              "      <td>0.640000</td>\n",
              "      <td>0.340303</td>\n",
              "      <td>-0.040175</td>\n",
              "    </tr>\n",
              "    <tr>\n",
              "      <th>10</th>\n",
              "      <td>0.220549</td>\n",
              "      <td>0.297825</td>\n",
              "      <td>0.343555</td>\n",
              "      <td>-0.046947</td>\n",
              "    </tr>\n",
              "    <tr>\n",
              "      <th>4</th>\n",
              "      <td>0.134622</td>\n",
              "      <td>0.219917</td>\n",
              "      <td>0.458206</td>\n",
              "      <td>-0.048008</td>\n",
              "    </tr>\n",
              "    <tr>\n",
              "      <th>14</th>\n",
              "      <td>0.965995</td>\n",
              "      <td>0.861120</td>\n",
              "      <td>0.566829</td>\n",
              "      <td>-0.056758</td>\n",
              "    </tr>\n",
              "    <tr>\n",
              "      <th>22</th>\n",
              "      <td>0.690000</td>\n",
              "      <td>0.990000</td>\n",
              "      <td>0.880000</td>\n",
              "      <td>-0.074138</td>\n",
              "    </tr>\n",
              "    <tr>\n",
              "      <th>1</th>\n",
              "      <td>0.242114</td>\n",
              "      <td>0.644074</td>\n",
              "      <td>0.272433</td>\n",
              "      <td>-0.087963</td>\n",
              "    </tr>\n",
              "    <tr>\n",
              "      <th>9</th>\n",
              "      <td>0.170477</td>\n",
              "      <td>0.697032</td>\n",
              "      <td>0.149169</td>\n",
              "      <td>-0.094190</td>\n",
              "    </tr>\n",
              "    <tr>\n",
              "      <th>18</th>\n",
              "      <td>0.360000</td>\n",
              "      <td>0.000000</td>\n",
              "      <td>0.860000</td>\n",
              "      <td>-0.094265</td>\n",
              "    </tr>\n",
              "    <tr>\n",
              "      <th>11</th>\n",
              "      <td>0.666014</td>\n",
              "      <td>0.671985</td>\n",
              "      <td>0.246295</td>\n",
              "      <td>-0.105965</td>\n",
              "    </tr>\n",
              "    <tr>\n",
              "      <th>19</th>\n",
              "      <td>0.360000</td>\n",
              "      <td>0.000000</td>\n",
              "      <td>0.860000</td>\n",
              "      <td>-0.106565</td>\n",
              "    </tr>\n",
              "    <tr>\n",
              "      <th>20</th>\n",
              "      <td>0.360000</td>\n",
              "      <td>0.000000</td>\n",
              "      <td>0.860000</td>\n",
              "      <td>-0.107481</td>\n",
              "    </tr>\n",
              "    <tr>\n",
              "      <th>5</th>\n",
              "      <td>0.345523</td>\n",
              "      <td>0.941360</td>\n",
              "      <td>0.269363</td>\n",
              "      <td>-0.110621</td>\n",
              "    </tr>\n",
              "    <tr>\n",
              "      <th>2</th>\n",
              "      <td>0.534906</td>\n",
              "      <td>0.398501</td>\n",
              "      <td>0.173389</td>\n",
              "      <td>-0.111415</td>\n",
              "    </tr>\n",
              "    <tr>\n",
              "      <th>0</th>\n",
              "      <td>0.171525</td>\n",
              "      <td>0.343917</td>\n",
              "      <td>0.248737</td>\n",
              "      <td>-0.112122</td>\n",
              "    </tr>\n",
              "    <tr>\n",
              "      <th>23</th>\n",
              "      <td>0.990000</td>\n",
              "      <td>0.580000</td>\n",
              "      <td>0.000000</td>\n",
              "      <td>-0.113750</td>\n",
              "    </tr>\n",
              "    <tr>\n",
              "      <th>7</th>\n",
              "      <td>0.645503</td>\n",
              "      <td>0.397143</td>\n",
              "      <td>0.919771</td>\n",
              "      <td>-0.113869</td>\n",
              "    </tr>\n",
              "    <tr>\n",
              "      <th>17</th>\n",
              "      <td>0.360000</td>\n",
              "      <td>0.000000</td>\n",
              "      <td>0.860000</td>\n",
              "      <td>-0.116873</td>\n",
              "    </tr>\n",
              "    <tr>\n",
              "      <th>12</th>\n",
              "      <td>0.046809</td>\n",
              "      <td>0.231360</td>\n",
              "      <td>0.770618</td>\n",
              "      <td>-0.118048</td>\n",
              "    </tr>\n",
              "    <tr>\n",
              "      <th>21</th>\n",
              "      <td>0.360000</td>\n",
              "      <td>0.000000</td>\n",
              "      <td>0.860000</td>\n",
              "      <td>-0.122976</td>\n",
              "    </tr>\n",
              "    <tr>\n",
              "      <th>25</th>\n",
              "      <td>0.490000</td>\n",
              "      <td>0.190000</td>\n",
              "      <td>0.640000</td>\n",
              "      <td>-0.127785</td>\n",
              "    </tr>\n",
              "    <tr>\n",
              "      <th>8</th>\n",
              "      <td>0.746912</td>\n",
              "      <td>0.284196</td>\n",
              "      <td>0.226300</td>\n",
              "      <td>-0.131461</td>\n",
              "    </tr>\n",
              "    <tr>\n",
              "      <th>26</th>\n",
              "      <td>0.490000</td>\n",
              "      <td>0.190000</td>\n",
              "      <td>0.640000</td>\n",
              "      <td>-0.143638</td>\n",
              "    </tr>\n",
              "    <tr>\n",
              "      <th>16</th>\n",
              "      <td>0.480000</td>\n",
              "      <td>0.990000</td>\n",
              "      <td>0.000000</td>\n",
              "      <td>-0.145661</td>\n",
              "    </tr>\n",
              "    <tr>\n",
              "      <th>24</th>\n",
              "      <td>0.990000</td>\n",
              "      <td>0.000000</td>\n",
              "      <td>0.000000</td>\n",
              "      <td>-0.172398</td>\n",
              "    </tr>\n",
              "    <tr>\n",
              "      <th>15</th>\n",
              "      <td>0.990000</td>\n",
              "      <td>0.000000</td>\n",
              "      <td>0.670000</td>\n",
              "      <td>-0.190526</td>\n",
              "    </tr>\n",
              "    <tr>\n",
              "      <th>6</th>\n",
              "      <td>0.151837</td>\n",
              "      <td>0.439991</td>\n",
              "      <td>0.990882</td>\n",
              "      <td>-0.398926</td>\n",
              "    </tr>\n",
              "  </tbody>\n",
              "</table>\n",
              "</div>"
            ],
            "text/plain": [
              "          x1        x2        x3         y\n",
              "3   0.492581  0.611593  0.340176 -0.034835\n",
              "13  0.600097  0.725136  0.066089 -0.036378\n",
              "27  0.500000  0.640000  0.340303 -0.040175\n",
              "10  0.220549  0.297825  0.343555 -0.046947\n",
              "4   0.134622  0.219917  0.458206 -0.048008\n",
              "14  0.965995  0.861120  0.566829 -0.056758\n",
              "22  0.690000  0.990000  0.880000 -0.074138\n",
              "1   0.242114  0.644074  0.272433 -0.087963\n",
              "9   0.170477  0.697032  0.149169 -0.094190\n",
              "18  0.360000  0.000000  0.860000 -0.094265\n",
              "11  0.666014  0.671985  0.246295 -0.105965\n",
              "19  0.360000  0.000000  0.860000 -0.106565\n",
              "20  0.360000  0.000000  0.860000 -0.107481\n",
              "5   0.345523  0.941360  0.269363 -0.110621\n",
              "2   0.534906  0.398501  0.173389 -0.111415\n",
              "0   0.171525  0.343917  0.248737 -0.112122\n",
              "23  0.990000  0.580000  0.000000 -0.113750\n",
              "7   0.645503  0.397143  0.919771 -0.113869\n",
              "17  0.360000  0.000000  0.860000 -0.116873\n",
              "12  0.046809  0.231360  0.770618 -0.118048\n",
              "21  0.360000  0.000000  0.860000 -0.122976\n",
              "25  0.490000  0.190000  0.640000 -0.127785\n",
              "8   0.746912  0.284196  0.226300 -0.131461\n",
              "26  0.490000  0.190000  0.640000 -0.143638\n",
              "16  0.480000  0.990000  0.000000 -0.145661\n",
              "24  0.990000  0.000000  0.000000 -0.172398\n",
              "15  0.990000  0.000000  0.670000 -0.190526\n",
              "6   0.151837  0.439991  0.990882 -0.398926"
            ]
          },
          "execution_count": 6,
          "metadata": {},
          "output_type": "execute_result"
        }
      ],
      "source": [
        "# sort the data by the output, with the best value at the top\n",
        "df = df.sort_values(by=['y'], ascending=False)\n",
        "df.head(100)"
      ]
    },
    {
      "cell_type": "markdown",
      "metadata": {
        "id": "TO9892W9I97i"
      },
      "source": [
        "Let's start with Bayesian Optimization with an Upper Confidence Bound acquisition function that uses a Gaussian Process as a surrogate model."
      ]
    },
    {
      "cell_type": "code",
      "execution_count": 7,
      "metadata": {
        "id": "vaPkp_TnI97j",
        "outputId": "f5e50ffa-7b21-4eb1-d150-da8d77d627d4"
      },
      "outputs": [],
      "source": [
        "def get_next_query(gpr, kappa):\n",
        "\n",
        "    # to optimize the acquisition function, we will simply use gridsearch over a space of 1,000,000 gridpoints\n",
        "    x1 = np.linspace(0, 1, 100, endpoint=False)\n",
        "    x2 = np.linspace(0, 1, 100, endpoint=False)\n",
        "    x3 = np.linspace(0, 1, 100, endpoint=False)\n",
        "\n",
        "    X_grid = []\n",
        "    for i in range(len(x1)):\n",
        "        for j in range(len(x2)):\n",
        "            for k in range(len(x3)):\n",
        "                X_grid.append([x1[i], x2[j], x3[k]])\n",
        "\n",
        "    X_grid = np.array(X_grid)\n",
        "    mean, std = gpr.predict(X_grid, return_std = True)\n",
        "    ucb = mean + kappa * std\n",
        "\n",
        "    idx_max = np.argmax(ucb)\n",
        "    next_query = X_grid[idx_max]\n",
        "    return next_query, X_grid, ucb\n"
      ]
    },
    {
      "cell_type": "code",
      "execution_count": 8,
      "metadata": {},
      "outputs": [
        {
          "name": "stdout",
          "output_type": "stream",
          "text": [
            "Log Margin Likelihood = -3032021.4636931457\n",
            "0.990000-0.780000-0.990000\n"
          ]
        }
      ],
      "source": [
        "# parameters for the gaussian process\n",
        "gpr = GaussianProcessRegressor()\n",
        "gpr.fit(X, y)\n",
        "print(\"Log Margin Likelihood =\", gpr.log_marginal_likelihood_value_)\n",
        " \n",
        "next_query, X_grid, ucb = get_next_query(gpr, 1)\n",
        "print(format_query(next_query))"
      ]
    },
    {
      "cell_type": "markdown",
      "metadata": {},
      "source": [
        "### Observations with original data\n",
        "With a low kappa, the algorithm explores the space. With a high kappa, the algorithm exploits the space.\n",
        "Next query: 0.990000-0.000000-0.670000\n",
        "\n",
        "### Observations after query 1\n",
        "Next query, still with kappa=1: 0.480000-0.990000-0.000000"
      ]
    },
    {
      "cell_type": "markdown",
      "metadata": {},
      "source": [
        "Let's see how the acquisition function changes if we add points at the suggested next_query, assuming that they do not strike gold."
      ]
    },
    {
      "cell_type": "markdown",
      "metadata": {},
      "source": [
        "It looks like all the points are very close to the edge."
      ]
    },
    {
      "cell_type": "markdown",
      "metadata": {},
      "source": [
        "### After observation 20 ###\n",
        "There are a few issues with the approach used so far:\n",
        "1. We haven't really checked how good a fit the Gaussian process is for the data.\n",
        "2. We haven't taken advantage of the information on one of the inputs being irrelevant.\n",
        "3. We didn't make use of the repeated queries which, although unintentional, produced some information on the noise."
      ]
    },
    {
      "cell_type": "code",
      "execution_count": 9,
      "metadata": {},
      "outputs": [
        {
          "data": {
            "image/png": "[encoded data removed]",
            "text/plain": [
              "<Figure size 1000x1000 with 1 Axes>"
            ]
          },
          "metadata": {},
          "output_type": "display_data"
        }
      ],
      "source": [
        "# Create the plot for visualizing the quality of the fit by comparing the predicted values with the true values\n",
        "y_pred = gpr.predict(X)\n",
        "fig = plt.figure(figsize=(10, 10))\n",
        "plt.scatter(y, y_pred, label='Predicted vs Actual')\n",
        "plt.plot([y.min(), y.max()], [y.min(), y.max()], 'k--', label='Perfect Fit')\n",
        "plt.xlabel('Actual y')\n",
        "plt.ylabel('Predicted y')\n",
        "plt.title('Quality of Gaussian Process Fit')\n",
        "plt.legend()\n",
        "plt.grid(True)\n",
        "plt.show()"
      ]
    },
    {
      "cell_type": "code",
      "execution_count": 10,
      "metadata": {},
      "outputs": [
        {
          "data": {
            "text/plain": [
              "array([[ 1.        ,  0.11245132, -0.24735282,  0.02932301],\n",
              "       [ 0.11245132,  1.        , -0.44315255,  0.21922768],\n",
              "       [-0.24735282, -0.44315255,  1.        , -0.28350225],\n",
              "       [ 0.02932301,  0.21922768, -0.28350225,  1.        ]])"
            ]
          },
          "execution_count": 10,
          "metadata": {},
          "output_type": "execute_result"
        }
      ],
      "source": [
        "# let's calculate the correlation between the inputs and the output\n",
        "correlation = np.corrcoef(X.T, y)\n",
        "correlation"
      ]
    },
    {
      "cell_type": "markdown",
      "metadata": {},
      "source": [
        "It looks like the first input $x_1$ has no direct linear correlation given that the correlation is only 0.028. To simplify the problem, let's remove it."
      ]
    },
    {
      "cell_type": "code",
      "execution_count": 11,
      "metadata": {},
      "outputs": [
        {
          "data": {
            "image/png": "[encoded data removed]",
            "text/plain": [
              "<Figure size 640x480 with 2 Axes>"
            ]
          },
          "metadata": {},
          "output_type": "display_data"
        }
      ],
      "source": [
        "X = df[['x2', 'x3']].values\n",
        "y = df['y'].values\n",
        "\n",
        "# as we have moved onto a 2D input space, we can easily visualise the data\n",
        "plt.scatter(X[:, 0], X[:, 1], c=y)\n",
        "plt.colorbar()\n",
        "plt.show()"
      ]
    },
    {
      "cell_type": "code",
      "execution_count": 12,
      "metadata": {},
      "outputs": [
        {
          "name": "stdout",
          "output_type": "stream",
          "text": [
            "Log Margin Likelihood = -3031586.356461278\n"
          ]
        },
        {
          "name": "stderr",
          "output_type": "stream",
          "text": [
            "/Users/paolo/anaconda3/envs/ML_course/lib/python3.11/site-packages/sklearn/gaussian_process/_gpr.py:663: ConvergenceWarning: lbfgs failed to converge (status=2):\n",
            "ABNORMAL_TERMINATION_IN_LNSRCH.\n",
            "\n",
            "Increase the number of iterations (max_iter) or scale the data as shown in:\n",
            "    https://scikit-learn.org/stable/modules/preprocessing.html\n",
            "  _check_optimize_result(\"lbfgs\", opt_res)\n"
          ]
        }
      ],
      "source": [
        "# Initialize the Gaussian Process model and fit it\n",
        "kernel = RBF()\n",
        "gpr = GaussianProcessRegressor(kernel=kernel, n_restarts_optimizer=10)\n",
        "gpr.fit(X, y)\n",
        "\n",
        "print(\"Log Margin Likelihood =\", gpr.log_marginal_likelihood_value_)"
      ]
    },
    {
      "cell_type": "markdown",
      "metadata": {},
      "source": [
        "No convergence yet. Let's try to increase the number of iterations and scale the data."
      ]
    },
    {
      "cell_type": "code",
      "execution_count": 13,
      "metadata": {},
      "outputs": [
        {
          "name": "stdout",
          "output_type": "stream",
          "text": [
            "Log Margin Likelihood = -673670282.4140188\n"
          ]
        }
      ],
      "source": [
        "scaler_X = StandardScaler()\n",
        "scaler_y = StandardScaler()\n",
        "X_scaled = scaler_X.fit_transform(X)\n",
        "y_scaled = scaler_y.fit_transform(y.reshape(-1, 1)).flatten()\n",
        "\n",
        "# Initialize the Gaussian Process model and fit it\n",
        "kernel = RBF()\n",
        "gpr = GaussianProcessRegressor(kernel=kernel, n_restarts_optimizer=20)\n",
        "gpr.fit(X_scaled, y_scaled)\n",
        "\n",
        "print(\"Log Margin Likelihood =\", gpr.log_marginal_likelihood_value_)"
      ]
    },
    {
      "cell_type": "markdown",
      "metadata": {},
      "source": [
        "The model didn't really improve and, in fact, the Log Marginal Likelihood decreased.\n",
        "Let's work on the noise."
      ]
    },
    {
      "cell_type": "code",
      "execution_count": 14,
      "metadata": {},
      "outputs": [
        {
          "name": "stdout",
          "output_type": "stream",
          "text": [
            "Mean Noise Level = 0.027313446789826605\n",
            "Log Margin Likelihood = -32.75855324999997\n"
          ]
        }
      ],
      "source": [
        "# Estimate the noise level based on repeated queries\n",
        "df_scaled = pd.DataFrame(X_scaled, columns=['x2_scaled', 'x3_scaled'])\n",
        "df_scaled['y_scaled'] = y_scaled\n",
        "grouped = df_scaled.groupby(['x2_scaled', 'x3_scaled'])\n",
        "noise_estimate = grouped['y_scaled'].var().dropna()\n",
        "mean_noise_level = noise_estimate.mean()\n",
        "print(\"Mean Noise Level =\", mean_noise_level)\n",
        "\n",
        "# Add a noise term and re-fit the model\n",
        "kernel_with_noise = kernel + WhiteKernel(noise_level=mean_noise_level)\n",
        "gpr_with_noise = GaussianProcessRegressor(kernel=kernel_with_noise, n_restarts_optimizer=20)\n",
        "gpr_with_noise.fit(X_scaled, y_scaled)\n",
        "\n",
        "print(\"Log Margin Likelihood =\", gpr_with_noise.log_marginal_likelihood_value_)\n"
      ]
    },
    {
      "cell_type": "markdown",
      "metadata": {},
      "source": [
        "Great improvement compared to the original model, as the Log Likelihood is much closer to zero.\n",
        "Let's plot the fit in 2D."
      ]
    },
    {
      "cell_type": "code",
      "execution_count": 15,
      "metadata": {},
      "outputs": [
        {
          "data": {
            "image/png": "[encoded data removed]",
            "text/plain": [
              "<Figure size 1200x800 with 2 Axes>"
            ]
          },
          "metadata": {},
          "output_type": "display_data"
        }
      ],
      "source": [
        "# Generate a grid for plotting the Gaussian Process fit\n",
        "x2_values_plot = np.linspace(X_scaled[:, 0].min(), X_scaled[:, 0].max(), 50)\n",
        "x3_values_plot = np.linspace(X_scaled[:, 1].min(), X_scaled[:, 1].max(), 50)\n",
        "\n",
        "x2_grid_plot, x3_grid_plot = np.meshgrid(x2_values_plot, x3_values_plot)\n",
        "candidate_points_plot = np.array([x2_grid_plot.ravel(), x3_grid_plot.ravel()]).T\n",
        "\n",
        "# Use the Gaussian Process model to predict y values for the grid points\n",
        "mean_pred_plot = gpr_with_noise.predict(candidate_points_plot)\n",
        "\n",
        "# Reshape the predicted y values for plotting\n",
        "mean_pred_plot_reshaped = mean_pred_plot.reshape(x2_grid_plot.shape)\n",
        "\n",
        "# Create the plot\n",
        "plt.figure(figsize=(12, 8))\n",
        "contour = plt.contourf(x2_grid_plot, x3_grid_plot, mean_pred_plot_reshaped, cmap='viridis')\n",
        "plt.colorbar(label='Predicted $y$')\n",
        "plt.scatter(X_scaled[:, 0], X_scaled[:, 1], c=y_scaled, edgecolors='k', s=100, cmap='viridis', label='Data points')\n",
        "plt.title('Gaussian Process Fit')\n",
        "plt.xlabel('Scaled $x_2$')\n",
        "plt.ylabel('Scaled $x_3$')\n",
        "plt.legend()\n",
        "plt.show()\n"
      ]
    },
    {
      "cell_type": "code",
      "execution_count": 16,
      "metadata": {},
      "outputs": [],
      "source": [
        "def get_next_query_2d(gpr, kappa, X):\n",
        "\n",
        "    # to optimize the acquisition function, we will simply use gridsearch over a space of 10,000 gridpoints\n",
        "    x2_values = np.linspace(X[:, 0].min(), X[:, 0].max(), 100)\n",
        "    x3_values = np.linspace(X[:, 1].min(), X[:, 1].max(), 100)\n",
        "    x2_grid, x3_grid = np.meshgrid(x2_values, x3_values)\n",
        "    candidate_points = np.array([x2_grid.ravel(), x3_grid.ravel()]).T\n",
        "\n",
        "    mean_pred, std_pred = gpr.predict(candidate_points, return_std=True)\n",
        "\n",
        "    ucb = mean_pred + kappa * std_pred\n",
        "    next_query_point_index = np.argmax(ucb)\n",
        "    next_query_point = candidate_points[next_query_point_index]\n",
        "    \n",
        "    return next_query_point, candidate_points, ucb, mean_pred, std_pred"
      ]
    },
    {
      "cell_type": "code",
      "execution_count": 17,
      "metadata": {},
      "outputs": [
        {
          "name": "stdout",
          "output_type": "stream",
          "text": [
            "Next query point scaled [x2, x3]: [-0.44644934 -0.25549715]\n",
            "Next query point [x2, x3]: [0.26       0.40035631]\n",
            "Formatted next query point [x1=0.5, x2, x3]: 0.500000-0.260000-0.400356\n"
          ]
        }
      ],
      "source": [
        "# exploitative kappa=1\n",
        "next_query_point_scaled, X_grid, ucb, mean, std = get_next_query_2d(gpr_with_noise, 1, X_scaled)\n",
        "next_query_point = scaler_X.inverse_transform([next_query_point_scaled])[0]\n",
        "print(f\"Next query point scaled [x2, x3]: {next_query_point_scaled}\")\n",
        "print(f\"Next query point [x2, x3]: {next_query_point}\")\n",
        "print(f\"Formatted next query point [x1=0.5, x2, x3]: 0.500000-{format_query(next_query_point)}\")\n",
        "\n"
      ]
    },
    {
      "cell_type": "markdown",
      "metadata": {},
      "source": [
        "### After observation 23 (13th query)\n",
        "Let's go with the suggested query: 0.500000-0.260000-0.400356"
      ]
    }
  ],
  "metadata": {
    "colab": {
      "provenance": []
    },
    "interpreter": {
      "hash": "d37abda7630e259e5026a5079657683a09f6e3d11473720762ebe7250c494840"
    },
    "kernelspec": {
      "display_name": "Python 3.8.12 ('emeritus')",
      "language": "python",
      "name": "python3"
    },
    "language_info": {
      "codemirror_mode": {
        "name": "ipython",
        "version": 3
      },
      "file_extension": ".py",
      "mimetype": "text/x-python",
      "name": "python",
      "nbconvert_exporter": "python",
      "pygments_lexer": "ipython3",
      "version": "3.11.5"
    },
    "orig_nbformat": 4
  },
  "nbformat": 4,
  "nbformat_minor": 0
}
